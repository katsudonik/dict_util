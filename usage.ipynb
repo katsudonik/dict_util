{
 "cells": [
  {
   "cell_type": "markdown",
   "metadata": {},
   "source": [
    "# usage of dict_util"
   ]
  },
  {
   "cell_type": "markdown",
   "metadata": {},
   "source": [
    "## loading libraries"
   ]
  },
  {
   "cell_type": "code",
   "execution_count": 1,
   "metadata": {
    "ExecuteTime": {
     "end_time": "2022-06-21T09:28:38.760668Z",
     "start_time": "2022-06-21T09:28:38.336135Z"
    }
   },
   "outputs": [],
   "source": [
    "import json\n",
    "import numpy as np\n",
    "import pandas as pd\n",
    "from dict_util.dict_util import DictUtil"
   ]
  },
  {
   "cell_type": "markdown",
   "metadata": {},
   "source": [
    "## 1. initialize"
   ]
  },
  {
   "cell_type": "code",
   "execution_count": 2,
   "metadata": {
    "ExecuteTime": {
     "end_time": "2022-06-21T09:28:38.767788Z",
     "start_time": "2022-06-21T09:28:38.764756Z"
    }
   },
   "outputs": [],
   "source": [
    "dict_util = DictUtil()"
   ]
  },
  {
   "cell_type": "markdown",
   "metadata": {},
   "source": [
    "## 2. use functions"
   ]
  },
  {
   "cell_type": "markdown",
   "metadata": {},
   "source": [
    "### dict_to_df\n",
    "\n",
    "convert dict to df( pandas dataframe )"
   ]
  },
  {
   "cell_type": "code",
   "execution_count": 3,
   "metadata": {
    "ExecuteTime": {
     "end_time": "2022-06-21T09:28:38.783730Z",
     "start_time": "2022-06-21T09:28:38.769945Z"
    },
    "scrolled": true
   },
   "outputs": [
    {
     "data": {
      "text/html": [
       "<div>\n",
       "<style scoped>\n",
       "    .dataframe tbody tr th:only-of-type {\n",
       "        vertical-align: middle;\n",
       "    }\n",
       "\n",
       "    .dataframe tbody tr th {\n",
       "        vertical-align: top;\n",
       "    }\n",
       "\n",
       "    .dataframe thead th {\n",
       "        text-align: right;\n",
       "    }\n",
       "</style>\n",
       "<table border=\"1\" class=\"dataframe\">\n",
       "  <thead>\n",
       "    <tr style=\"text-align: right;\">\n",
       "      <th></th>\n",
       "      <th>key</th>\n",
       "      <th>val</th>\n",
       "    </tr>\n",
       "  </thead>\n",
       "  <tbody>\n",
       "    <tr>\n",
       "      <th>0</th>\n",
       "      <td>message.title</td>\n",
       "      <td>sample title edit!</td>\n",
       "    </tr>\n",
       "    <tr>\n",
       "      <th>1</th>\n",
       "      <td>message.subtitle</td>\n",
       "      <td>sample sub title</td>\n",
       "    </tr>\n",
       "    <tr>\n",
       "      <th>2</th>\n",
       "      <td>message.descriptions.item_1</td>\n",
       "      <td>this is description1</td>\n",
       "    </tr>\n",
       "    <tr>\n",
       "      <th>3</th>\n",
       "      <td>message.descriptions.item_2</td>\n",
       "      <td>this is description2 edit!</td>\n",
       "    </tr>\n",
       "    <tr>\n",
       "      <th>4</th>\n",
       "      <td>message.descriptions.item_3</td>\n",
       "      <td>this is description3</td>\n",
       "    </tr>\n",
       "  </tbody>\n",
       "</table>\n",
       "</div>"
      ],
      "text/plain": [
       "                           key                         val\n",
       "0                message.title          sample title edit!\n",
       "1             message.subtitle            sample sub title\n",
       "2  message.descriptions.item_1        this is description1\n",
       "3  message.descriptions.item_2  this is description2 edit!\n",
       "4  message.descriptions.item_3        this is description3"
      ]
     },
     "execution_count": 3,
     "metadata": {},
     "output_type": "execute_result"
    }
   ],
   "source": [
    "en_l_dict = json.load(open( f'sample/en_left.json' , \"r\"))\n",
    "en_l_df = dict_util.dict_to_df(en_l_dict)\n",
    "en_l_df"
   ]
  },
  {
   "cell_type": "code",
   "execution_count": 4,
   "metadata": {
    "ExecuteTime": {
     "end_time": "2022-06-21T09:28:38.796680Z",
     "start_time": "2022-06-21T09:28:38.786645Z"
    }
   },
   "outputs": [
    {
     "data": {
      "text/html": [
       "<div>\n",
       "<style scoped>\n",
       "    .dataframe tbody tr th:only-of-type {\n",
       "        vertical-align: middle;\n",
       "    }\n",
       "\n",
       "    .dataframe tbody tr th {\n",
       "        vertical-align: top;\n",
       "    }\n",
       "\n",
       "    .dataframe thead th {\n",
       "        text-align: right;\n",
       "    }\n",
       "</style>\n",
       "<table border=\"1\" class=\"dataframe\">\n",
       "  <thead>\n",
       "    <tr style=\"text-align: right;\">\n",
       "      <th></th>\n",
       "      <th>key</th>\n",
       "      <th>val</th>\n",
       "    </tr>\n",
       "  </thead>\n",
       "  <tbody>\n",
       "    <tr>\n",
       "      <th>0</th>\n",
       "      <td>message.title</td>\n",
       "      <td>sample title</td>\n",
       "    </tr>\n",
       "    <tr>\n",
       "      <th>1</th>\n",
       "      <td>message.subtitle</td>\n",
       "      <td>sample sub title</td>\n",
       "    </tr>\n",
       "    <tr>\n",
       "      <th>2</th>\n",
       "      <td>message.othertitle</td>\n",
       "      <td>sample other title</td>\n",
       "    </tr>\n",
       "    <tr>\n",
       "      <th>3</th>\n",
       "      <td>message.descriptions.item_1</td>\n",
       "      <td>this is description1</td>\n",
       "    </tr>\n",
       "    <tr>\n",
       "      <th>4</th>\n",
       "      <td>message.descriptions.item_2</td>\n",
       "      <td>this is description2</td>\n",
       "    </tr>\n",
       "    <tr>\n",
       "      <th>5</th>\n",
       "      <td>message.descriptions.item_other</td>\n",
       "      <td>this is description other</td>\n",
       "    </tr>\n",
       "  </tbody>\n",
       "</table>\n",
       "</div>"
      ],
      "text/plain": [
       "                               key                        val\n",
       "0                    message.title               sample title\n",
       "1                 message.subtitle           sample sub title\n",
       "2               message.othertitle         sample other title\n",
       "3      message.descriptions.item_1       this is description1\n",
       "4      message.descriptions.item_2       this is description2\n",
       "5  message.descriptions.item_other  this is description other"
      ]
     },
     "execution_count": 4,
     "metadata": {},
     "output_type": "execute_result"
    }
   ],
   "source": [
    "en_r_dict = json.load(open( f'sample/en_right.json' , \"r\"))\n",
    "en_r_df = dict_util.dict_to_df(en_r_dict)\n",
    "en_r_df"
   ]
  },
  {
   "cell_type": "code",
   "execution_count": 5,
   "metadata": {
    "ExecuteTime": {
     "end_time": "2022-06-21T09:28:38.805356Z",
     "start_time": "2022-06-21T09:28:38.798466Z"
    }
   },
   "outputs": [
    {
     "data": {
      "text/html": [
       "<div>\n",
       "<style scoped>\n",
       "    .dataframe tbody tr th:only-of-type {\n",
       "        vertical-align: middle;\n",
       "    }\n",
       "\n",
       "    .dataframe tbody tr th {\n",
       "        vertical-align: top;\n",
       "    }\n",
       "\n",
       "    .dataframe thead th {\n",
       "        text-align: right;\n",
       "    }\n",
       "</style>\n",
       "<table border=\"1\" class=\"dataframe\">\n",
       "  <thead>\n",
       "    <tr style=\"text-align: right;\">\n",
       "      <th></th>\n",
       "      <th>key</th>\n",
       "      <th>val</th>\n",
       "    </tr>\n",
       "  </thead>\n",
       "  <tbody>\n",
       "    <tr>\n",
       "      <th>3</th>\n",
       "      <td>message.descriptions.item_1</td>\n",
       "      <td>this is description1</td>\n",
       "    </tr>\n",
       "  </tbody>\n",
       "</table>\n",
       "</div>"
      ],
      "text/plain": [
       "                           key                   val\n",
       "3  message.descriptions.item_1  this is description1"
      ]
     },
     "execution_count": 5,
     "metadata": {},
     "output_type": "execute_result"
    }
   ],
   "source": [
    "en_r_df[en_r_df['key'] == 'message.descriptions.item_1']"
   ]
  },
  {
   "cell_type": "markdown",
   "metadata": {},
   "source": [
    "### diff_df\n",
    "\n",
    "compare two df ( result of `dict_to_df` ) to each other\n",
    "\n",
    "- Nan: key is undefined\n"
   ]
  },
  {
   "cell_type": "code",
   "execution_count": 6,
   "metadata": {
    "ExecuteTime": {
     "end_time": "2022-06-21T09:28:38.820101Z",
     "start_time": "2022-06-21T09:28:38.807502Z"
    }
   },
   "outputs": [
    {
     "data": {
      "text/html": [
       "<div>\n",
       "<style scoped>\n",
       "    .dataframe tbody tr th:only-of-type {\n",
       "        vertical-align: middle;\n",
       "    }\n",
       "\n",
       "    .dataframe tbody tr th {\n",
       "        vertical-align: top;\n",
       "    }\n",
       "\n",
       "    .dataframe thead th {\n",
       "        text-align: right;\n",
       "    }\n",
       "</style>\n",
       "<table border=\"1\" class=\"dataframe\">\n",
       "  <thead>\n",
       "    <tr style=\"text-align: right;\">\n",
       "      <th></th>\n",
       "      <th>key</th>\n",
       "      <th>val_left</th>\n",
       "      <th>val_right</th>\n",
       "    </tr>\n",
       "  </thead>\n",
       "  <tbody>\n",
       "    <tr>\n",
       "      <th>1</th>\n",
       "      <td>message.descriptions.item_other</td>\n",
       "      <td>NaN</td>\n",
       "      <td>this is description other</td>\n",
       "    </tr>\n",
       "    <tr>\n",
       "      <th>2</th>\n",
       "      <td>message.descriptions.item_2</td>\n",
       "      <td>this is description2 edit!</td>\n",
       "      <td>this is description2</td>\n",
       "    </tr>\n",
       "    <tr>\n",
       "      <th>4</th>\n",
       "      <td>message.title</td>\n",
       "      <td>sample title edit!</td>\n",
       "      <td>sample title</td>\n",
       "    </tr>\n",
       "    <tr>\n",
       "      <th>5</th>\n",
       "      <td>message.descriptions.item_3</td>\n",
       "      <td>this is description3</td>\n",
       "      <td>NaN</td>\n",
       "    </tr>\n",
       "    <tr>\n",
       "      <th>6</th>\n",
       "      <td>message.othertitle</td>\n",
       "      <td>NaN</td>\n",
       "      <td>sample other title</td>\n",
       "    </tr>\n",
       "  </tbody>\n",
       "</table>\n",
       "</div>"
      ],
      "text/plain": [
       "                               key                    val_left  \\\n",
       "1  message.descriptions.item_other                         NaN   \n",
       "2      message.descriptions.item_2  this is description2 edit!   \n",
       "4                    message.title          sample title edit!   \n",
       "5      message.descriptions.item_3        this is description3   \n",
       "6               message.othertitle                         NaN   \n",
       "\n",
       "                   val_right  \n",
       "1  this is description other  \n",
       "2       this is description2  \n",
       "4               sample title  \n",
       "5                        NaN  \n",
       "6         sample other title  "
      ]
     },
     "execution_count": 6,
     "metadata": {},
     "output_type": "execute_result"
    }
   ],
   "source": [
    "dict_util.diff_df(en_l_df, en_r_df)"
   ]
  },
  {
   "cell_type": "markdown",
   "metadata": {},
   "source": [
    "### diff_by_df\n",
    "convert two dict to df ( with `dict_to_df` ) & compare them to each other ( with diff_df )\n"
   ]
  },
  {
   "cell_type": "code",
   "execution_count": 7,
   "metadata": {
    "ExecuteTime": {
     "end_time": "2022-06-21T09:28:38.834655Z",
     "start_time": "2022-06-21T09:28:38.822038Z"
    }
   },
   "outputs": [
    {
     "data": {
      "text/html": [
       "<div>\n",
       "<style scoped>\n",
       "    .dataframe tbody tr th:only-of-type {\n",
       "        vertical-align: middle;\n",
       "    }\n",
       "\n",
       "    .dataframe tbody tr th {\n",
       "        vertical-align: top;\n",
       "    }\n",
       "\n",
       "    .dataframe thead th {\n",
       "        text-align: right;\n",
       "    }\n",
       "</style>\n",
       "<table border=\"1\" class=\"dataframe\">\n",
       "  <thead>\n",
       "    <tr style=\"text-align: right;\">\n",
       "      <th></th>\n",
       "      <th>key</th>\n",
       "      <th>val_left</th>\n",
       "      <th>val_right</th>\n",
       "    </tr>\n",
       "  </thead>\n",
       "  <tbody>\n",
       "    <tr>\n",
       "      <th>1</th>\n",
       "      <td>message.descriptions.item_other</td>\n",
       "      <td>NaN</td>\n",
       "      <td>this is description other</td>\n",
       "    </tr>\n",
       "    <tr>\n",
       "      <th>2</th>\n",
       "      <td>message.descriptions.item_2</td>\n",
       "      <td>this is description2 edit!</td>\n",
       "      <td>this is description2</td>\n",
       "    </tr>\n",
       "    <tr>\n",
       "      <th>4</th>\n",
       "      <td>message.title</td>\n",
       "      <td>sample title edit!</td>\n",
       "      <td>sample title</td>\n",
       "    </tr>\n",
       "    <tr>\n",
       "      <th>5</th>\n",
       "      <td>message.descriptions.item_3</td>\n",
       "      <td>this is description3</td>\n",
       "      <td>NaN</td>\n",
       "    </tr>\n",
       "    <tr>\n",
       "      <th>6</th>\n",
       "      <td>message.othertitle</td>\n",
       "      <td>NaN</td>\n",
       "      <td>sample other title</td>\n",
       "    </tr>\n",
       "  </tbody>\n",
       "</table>\n",
       "</div>"
      ],
      "text/plain": [
       "                               key                    val_left  \\\n",
       "1  message.descriptions.item_other                         NaN   \n",
       "2      message.descriptions.item_2  this is description2 edit!   \n",
       "4                    message.title          sample title edit!   \n",
       "5      message.descriptions.item_3        this is description3   \n",
       "6               message.othertitle                         NaN   \n",
       "\n",
       "                   val_right  \n",
       "1  this is description other  \n",
       "2       this is description2  \n",
       "4               sample title  \n",
       "5                        NaN  \n",
       "6         sample other title  "
      ]
     },
     "execution_count": 7,
     "metadata": {},
     "output_type": "execute_result"
    }
   ],
   "source": [
    "dict_util.diff_by_df(en_l_dict, en_r_dict)"
   ]
  },
  {
   "cell_type": "markdown",
   "metadata": {},
   "source": [
    "### update_dict_df_val\n",
    "replace value with the other value\n",
    "\n",
    "- undefined key is not merged"
   ]
  },
  {
   "cell_type": "code",
   "execution_count": 8,
   "metadata": {
    "ExecuteTime": {
     "end_time": "2022-06-21T09:28:38.849166Z",
     "start_time": "2022-06-21T09:28:38.836566Z"
    },
    "scrolled": false
   },
   "outputs": [
    {
     "data": {
      "text/html": [
       "<div>\n",
       "<style scoped>\n",
       "    .dataframe tbody tr th:only-of-type {\n",
       "        vertical-align: middle;\n",
       "    }\n",
       "\n",
       "    .dataframe tbody tr th {\n",
       "        vertical-align: top;\n",
       "    }\n",
       "\n",
       "    .dataframe thead th {\n",
       "        text-align: right;\n",
       "    }\n",
       "</style>\n",
       "<table border=\"1\" class=\"dataframe\">\n",
       "  <thead>\n",
       "    <tr style=\"text-align: right;\">\n",
       "      <th></th>\n",
       "      <th>key</th>\n",
       "      <th>val</th>\n",
       "    </tr>\n",
       "  </thead>\n",
       "  <tbody>\n",
       "    <tr>\n",
       "      <th>0</th>\n",
       "      <td>message.title</td>\n",
       "      <td>sample title edit!</td>\n",
       "    </tr>\n",
       "    <tr>\n",
       "      <th>1</th>\n",
       "      <td>message.subtitle</td>\n",
       "      <td>sample sub title</td>\n",
       "    </tr>\n",
       "    <tr>\n",
       "      <th>2</th>\n",
       "      <td>message.othertitle</td>\n",
       "      <td>sample other title</td>\n",
       "    </tr>\n",
       "    <tr>\n",
       "      <th>3</th>\n",
       "      <td>message.descriptions.item_1</td>\n",
       "      <td>this is description1</td>\n",
       "    </tr>\n",
       "    <tr>\n",
       "      <th>4</th>\n",
       "      <td>message.descriptions.item_2</td>\n",
       "      <td>this is description2 edit!</td>\n",
       "    </tr>\n",
       "    <tr>\n",
       "      <th>5</th>\n",
       "      <td>message.descriptions.item_other</td>\n",
       "      <td>this is description other</td>\n",
       "    </tr>\n",
       "  </tbody>\n",
       "</table>\n",
       "</div>"
      ],
      "text/plain": [
       "                               key                         val\n",
       "0                    message.title          sample title edit!\n",
       "1                 message.subtitle            sample sub title\n",
       "2               message.othertitle          sample other title\n",
       "3      message.descriptions.item_1        this is description1\n",
       "4      message.descriptions.item_2  this is description2 edit!\n",
       "5  message.descriptions.item_other   this is description other"
      ]
     },
     "execution_count": 8,
     "metadata": {},
     "output_type": "execute_result"
    }
   ],
   "source": [
    "new_en_r_df = dict_util.update_dict_df_val(en_r_df, en_l_df)\n",
    "new_en_r_df"
   ]
  },
  {
   "cell_type": "markdown",
   "metadata": {},
   "source": [
    "### df_to_dict\n",
    "convert df ( result of `dict_to_df` or `update_dict_df_val` ) to dict"
   ]
  },
  {
   "cell_type": "code",
   "execution_count": 9,
   "metadata": {
    "ExecuteTime": {
     "end_time": "2022-06-21T09:28:38.870092Z",
     "start_time": "2022-06-21T09:28:38.850929Z"
    }
   },
   "outputs": [
    {
     "data": {
      "text/plain": [
       "{'message': {'title': 'sample title edit!',\n",
       "  'subtitle': 'sample sub title',\n",
       "  'othertitle': 'sample other title',\n",
       "  'descriptions': {'item_1': 'this is description1',\n",
       "   'item_2': 'this is description2 edit!',\n",
       "   'item_other': 'this is description other'}}}"
      ]
     },
     "execution_count": 9,
     "metadata": {},
     "output_type": "execute_result"
    }
   ],
   "source": [
    "new_en_r_dict = dict_util.df_to_dict(new_en_r_df)\n",
    "new_en_r_dict"
   ]
  },
  {
   "cell_type": "code",
   "execution_count": 10,
   "metadata": {
    "ExecuteTime": {
     "end_time": "2022-06-21T09:28:38.876999Z",
     "start_time": "2022-06-21T09:28:38.874081Z"
    }
   },
   "outputs": [],
   "source": [
    "s = json.dumps(new_en_r_dict, ensure_ascii=False)\n",
    "with open(f'sample/new_en_r.json', mode='w') as f:\n",
    "    f.write(s)"
   ]
  }
 ],
 "metadata": {
  "kernelspec": {
   "display_name": "Python 3 (ipykernel)",
   "language": "python",
   "name": "python3"
  },
  "language_info": {
   "codemirror_mode": {
    "name": "ipython",
    "version": 3
   },
   "file_extension": ".py",
   "mimetype": "text/x-python",
   "name": "python",
   "nbconvert_exporter": "python",
   "pygments_lexer": "ipython3",
   "version": "3.7.13"
  }
 },
 "nbformat": 4,
 "nbformat_minor": 4
}
